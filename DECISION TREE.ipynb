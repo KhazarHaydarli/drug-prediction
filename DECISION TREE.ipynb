{
 "cells": [
  {
   "cell_type": "code",
   "execution_count": 1,
   "metadata": {
    "button": false,
    "new_sheet": false,
    "run_control": {
     "read_only": false
    }
   },
   "outputs": [],
   "source": [
    "import numpy as np \n",
    "import pandas as pd\n",
    "from sklearn import metrics\n",
    "import matplotlib.pyplot as plt\n",
    "from sklearn import preprocessing\n",
    "from sklearn.model_selection import train_test_split\n",
    "import seaborn as sns\n",
    "from sklearn import metrics\n",
    "from sklearn import svm\n",
    "import warnings\n",
    "warnings.filterwarnings(\"ignore\")\n",
    "from sklearn.ensemble import RandomForestClassifier\n",
    "from sklearn.tree import DecisionTreeClassifier\n",
    "from sklearn.svm import SVC\n",
    "from sklearn.neighbors import KNeighborsClassifier\n"
   ]
  },
  {
   "cell_type": "markdown",
   "metadata": {
    "button": false,
    "new_sheet": false,
    "run_control": {
     "read_only": false
    }
   },
   "source": [
    "<div id=\"about_dataset\">\n",
    "    <h2>About the dataset</h2>\n",
    "    Imagine that you are a medical researcher compiling data for a study. You have collected data about a set of patients, all of whom suffered from the same illness. During their course of treatment, each patient responded to one of 5 medications, Drug A, Drug B, Drug c, Drug x and y. \n",
    "    <br>\n",
    "    <br>\n",
    "    Part of your job is to build a model to find out which drug might be appropriate for a future patient with the same illness. The feature sets of this dataset are Age, Sex, Blood Pressure, and Cholesterol of patients, and the target is the drug that each patient responded to.\n",
    "    <br>\n",
    "    <br>\n",
    "    It is a sample of binary classifier, and you can use the training part of the dataset \n",
    "    to build a decision tree, and then use it to predict the class of a unknown patient, or to prescribe it to a new patient.\n",
    "</div>\n"
   ]
  },
  {
   "cell_type": "markdown",
   "metadata": {
    "button": false,
    "new_sheet": false,
    "run_control": {
     "read_only": false
    }
   },
   "source": [
    "<div id=\"downloading_data\"> \n",
    "    <h2>Downloading the Data</h2>\n",
    "    To download the data, we will use !wget to download it from IBM Object Storage.\n",
    "</div>"
   ]
  },
  {
   "cell_type": "markdown",
   "metadata": {},
   "source": [
    "now, read data using pandas dataframe:"
   ]
  },
  {
   "cell_type": "code",
   "execution_count": 2,
   "metadata": {
    "button": false,
    "new_sheet": false,
    "run_control": {
     "read_only": false
    }
   },
   "outputs": [
    {
     "data": {
      "text/html": [
       "<div>\n",
       "<style scoped>\n",
       "    .dataframe tbody tr th:only-of-type {\n",
       "        vertical-align: middle;\n",
       "    }\n",
       "\n",
       "    .dataframe tbody tr th {\n",
       "        vertical-align: top;\n",
       "    }\n",
       "\n",
       "    .dataframe thead th {\n",
       "        text-align: right;\n",
       "    }\n",
       "</style>\n",
       "<table border=\"1\" class=\"dataframe\">\n",
       "  <thead>\n",
       "    <tr style=\"text-align: right;\">\n",
       "      <th></th>\n",
       "      <th>Age</th>\n",
       "      <th>Sex</th>\n",
       "      <th>BP</th>\n",
       "      <th>Cholesterol</th>\n",
       "      <th>Na_to_K</th>\n",
       "      <th>Drug</th>\n",
       "    </tr>\n",
       "  </thead>\n",
       "  <tbody>\n",
       "    <tr>\n",
       "      <th>0</th>\n",
       "      <td>23</td>\n",
       "      <td>F</td>\n",
       "      <td>HIGH</td>\n",
       "      <td>HIGH</td>\n",
       "      <td>25.355</td>\n",
       "      <td>drugY</td>\n",
       "    </tr>\n",
       "    <tr>\n",
       "      <th>1</th>\n",
       "      <td>47</td>\n",
       "      <td>M</td>\n",
       "      <td>LOW</td>\n",
       "      <td>HIGH</td>\n",
       "      <td>13.093</td>\n",
       "      <td>drugC</td>\n",
       "    </tr>\n",
       "    <tr>\n",
       "      <th>2</th>\n",
       "      <td>47</td>\n",
       "      <td>M</td>\n",
       "      <td>LOW</td>\n",
       "      <td>HIGH</td>\n",
       "      <td>10.114</td>\n",
       "      <td>drugC</td>\n",
       "    </tr>\n",
       "    <tr>\n",
       "      <th>3</th>\n",
       "      <td>28</td>\n",
       "      <td>F</td>\n",
       "      <td>NORMAL</td>\n",
       "      <td>HIGH</td>\n",
       "      <td>7.798</td>\n",
       "      <td>drugX</td>\n",
       "    </tr>\n",
       "    <tr>\n",
       "      <th>4</th>\n",
       "      <td>61</td>\n",
       "      <td>F</td>\n",
       "      <td>LOW</td>\n",
       "      <td>HIGH</td>\n",
       "      <td>18.043</td>\n",
       "      <td>drugY</td>\n",
       "    </tr>\n",
       "  </tbody>\n",
       "</table>\n",
       "</div>"
      ],
      "text/plain": [
       "   Age Sex      BP Cholesterol  Na_to_K   Drug\n",
       "0   23   F    HIGH        HIGH   25.355  drugY\n",
       "1   47   M     LOW        HIGH   13.093  drugC\n",
       "2   47   M     LOW        HIGH   10.114  drugC\n",
       "3   28   F  NORMAL        HIGH    7.798  drugX\n",
       "4   61   F     LOW        HIGH   18.043  drugY"
      ]
     },
     "execution_count": 2,
     "metadata": {},
     "output_type": "execute_result"
    }
   ],
   "source": [
    "my_data = pd.read_csv(\"drug200.csv\", delimiter=\",\")\n",
    "my_data.head()"
   ]
  },
  {
   "cell_type": "code",
   "execution_count": 3,
   "metadata": {},
   "outputs": [
    {
     "data": {
      "text/plain": [
       "Age            0\n",
       "Sex            0\n",
       "BP             0\n",
       "Cholesterol    0\n",
       "Na_to_K        0\n",
       "Drug           0\n",
       "dtype: int64"
      ]
     },
     "execution_count": 3,
     "metadata": {},
     "output_type": "execute_result"
    }
   ],
   "source": [
    "my_data.isnull().sum()"
   ]
  },
  {
   "cell_type": "code",
   "execution_count": 4,
   "metadata": {
    "button": false,
    "new_sheet": false,
    "run_control": {
     "read_only": false
    }
   },
   "outputs": [
    {
     "data": {
      "text/plain": [
       "drugY    91\n",
       "drugX    54\n",
       "drugA    23\n",
       "drugB    16\n",
       "drugC    16\n",
       "Name: Drug, dtype: int64"
      ]
     },
     "execution_count": 4,
     "metadata": {},
     "output_type": "execute_result"
    }
   ],
   "source": [
    "my_data['Drug'].value_counts()"
   ]
  },
  {
   "cell_type": "markdown",
   "metadata": {},
   "source": [
    "<div href=\"pre-processing\">\n",
    "    <h2>Pre-processing</h2>\n",
    "</div>"
   ]
  },
  {
   "cell_type": "markdown",
   "metadata": {
    "button": false,
    "new_sheet": false,
    "run_control": {
     "read_only": false
    }
   },
   "source": [
    "Using <b>my_data</b> as the Drug.csv data read by pandas, declare the following variables: <br>\n",
    "\n",
    "<ul>\n",
    "    <li> <b> X </b> as the <b> Feature Matrix </b> (data of my_data) </li>\n",
    "    <li> <b> y </b> as the <b> response vector (target) </b> </li>\n",
    "</ul>"
   ]
  },
  {
   "cell_type": "markdown",
   "metadata": {
    "button": false,
    "new_sheet": false,
    "run_control": {
     "read_only": false
    }
   },
   "source": [
    "Remove the column containing the target name since it doesn't contain numeric values."
   ]
  },
  {
   "cell_type": "markdown",
   "metadata": {},
   "source": [
    "As you may figure out, some features in this dataset are categorical such as __Sex__ or __BP__. Unfortunately, Sklearn Decision Trees do not handle categorical variables. But still we can convert these features to numerical values. __pandas.get_dummies()__\n",
    "Convert categorical variable into dummy/indicator variables."
   ]
  },
  {
   "cell_type": "code",
   "execution_count": 5,
   "metadata": {},
   "outputs": [
    {
     "data": {
      "text/html": [
       "<div>\n",
       "<style scoped>\n",
       "    .dataframe tbody tr th:only-of-type {\n",
       "        vertical-align: middle;\n",
       "    }\n",
       "\n",
       "    .dataframe tbody tr th {\n",
       "        vertical-align: top;\n",
       "    }\n",
       "\n",
       "    .dataframe thead th {\n",
       "        text-align: right;\n",
       "    }\n",
       "</style>\n",
       "<table border=\"1\" class=\"dataframe\">\n",
       "  <thead>\n",
       "    <tr style=\"text-align: right;\">\n",
       "      <th></th>\n",
       "      <th>Age</th>\n",
       "      <th>Sex</th>\n",
       "      <th>BP</th>\n",
       "      <th>Cholesterol</th>\n",
       "      <th>Na_to_K</th>\n",
       "      <th>Drug</th>\n",
       "    </tr>\n",
       "  </thead>\n",
       "  <tbody>\n",
       "    <tr>\n",
       "      <th>0</th>\n",
       "      <td>23</td>\n",
       "      <td>0</td>\n",
       "      <td>HIGH</td>\n",
       "      <td>HIGH</td>\n",
       "      <td>25.355</td>\n",
       "      <td>drugY</td>\n",
       "    </tr>\n",
       "    <tr>\n",
       "      <th>1</th>\n",
       "      <td>47</td>\n",
       "      <td>1</td>\n",
       "      <td>LOW</td>\n",
       "      <td>HIGH</td>\n",
       "      <td>13.093</td>\n",
       "      <td>drugC</td>\n",
       "    </tr>\n",
       "    <tr>\n",
       "      <th>2</th>\n",
       "      <td>47</td>\n",
       "      <td>1</td>\n",
       "      <td>LOW</td>\n",
       "      <td>HIGH</td>\n",
       "      <td>10.114</td>\n",
       "      <td>drugC</td>\n",
       "    </tr>\n",
       "    <tr>\n",
       "      <th>3</th>\n",
       "      <td>28</td>\n",
       "      <td>0</td>\n",
       "      <td>NORMAL</td>\n",
       "      <td>HIGH</td>\n",
       "      <td>7.798</td>\n",
       "      <td>drugX</td>\n",
       "    </tr>\n",
       "    <tr>\n",
       "      <th>4</th>\n",
       "      <td>61</td>\n",
       "      <td>0</td>\n",
       "      <td>LOW</td>\n",
       "      <td>HIGH</td>\n",
       "      <td>18.043</td>\n",
       "      <td>drugY</td>\n",
       "    </tr>\n",
       "    <tr>\n",
       "      <th>...</th>\n",
       "      <td>...</td>\n",
       "      <td>...</td>\n",
       "      <td>...</td>\n",
       "      <td>...</td>\n",
       "      <td>...</td>\n",
       "      <td>...</td>\n",
       "    </tr>\n",
       "    <tr>\n",
       "      <th>195</th>\n",
       "      <td>56</td>\n",
       "      <td>0</td>\n",
       "      <td>LOW</td>\n",
       "      <td>HIGH</td>\n",
       "      <td>11.567</td>\n",
       "      <td>drugC</td>\n",
       "    </tr>\n",
       "    <tr>\n",
       "      <th>196</th>\n",
       "      <td>16</td>\n",
       "      <td>1</td>\n",
       "      <td>LOW</td>\n",
       "      <td>HIGH</td>\n",
       "      <td>12.006</td>\n",
       "      <td>drugC</td>\n",
       "    </tr>\n",
       "    <tr>\n",
       "      <th>197</th>\n",
       "      <td>52</td>\n",
       "      <td>1</td>\n",
       "      <td>NORMAL</td>\n",
       "      <td>HIGH</td>\n",
       "      <td>9.894</td>\n",
       "      <td>drugX</td>\n",
       "    </tr>\n",
       "    <tr>\n",
       "      <th>198</th>\n",
       "      <td>23</td>\n",
       "      <td>1</td>\n",
       "      <td>NORMAL</td>\n",
       "      <td>NORMAL</td>\n",
       "      <td>14.020</td>\n",
       "      <td>drugX</td>\n",
       "    </tr>\n",
       "    <tr>\n",
       "      <th>199</th>\n",
       "      <td>40</td>\n",
       "      <td>0</td>\n",
       "      <td>LOW</td>\n",
       "      <td>NORMAL</td>\n",
       "      <td>11.349</td>\n",
       "      <td>drugX</td>\n",
       "    </tr>\n",
       "  </tbody>\n",
       "</table>\n",
       "<p>200 rows × 6 columns</p>\n",
       "</div>"
      ],
      "text/plain": [
       "     Age  Sex      BP Cholesterol  Na_to_K   Drug\n",
       "0     23    0    HIGH        HIGH   25.355  drugY\n",
       "1     47    1     LOW        HIGH   13.093  drugC\n",
       "2     47    1     LOW        HIGH   10.114  drugC\n",
       "3     28    0  NORMAL        HIGH    7.798  drugX\n",
       "4     61    0     LOW        HIGH   18.043  drugY\n",
       "..   ...  ...     ...         ...      ...    ...\n",
       "195   56    0     LOW        HIGH   11.567  drugC\n",
       "196   16    1     LOW        HIGH   12.006  drugC\n",
       "197   52    1  NORMAL        HIGH    9.894  drugX\n",
       "198   23    1  NORMAL      NORMAL   14.020  drugX\n",
       "199   40    0     LOW      NORMAL   11.349  drugX\n",
       "\n",
       "[200 rows x 6 columns]"
      ]
     },
     "execution_count": 5,
     "metadata": {},
     "output_type": "execute_result"
    }
   ],
   "source": [
    "le_sex = preprocessing.LabelEncoder()\n",
    "le_sex.fit(['F','M'])\n",
    "my_data.iloc[:,1] = le_sex.transform(my_data.iloc[:,1]) \n",
    "my_data"
   ]
  },
  {
   "cell_type": "code",
   "execution_count": 6,
   "metadata": {},
   "outputs": [
    {
     "data": {
      "text/plain": [
       "HIGH      77\n",
       "LOW       64\n",
       "NORMAL    59\n",
       "Name: BP, dtype: int64"
      ]
     },
     "execution_count": 6,
     "metadata": {},
     "output_type": "execute_result"
    }
   ],
   "source": [
    "my_data.BP.value_counts()"
   ]
  },
  {
   "cell_type": "code",
   "execution_count": 7,
   "metadata": {},
   "outputs": [
    {
     "data": {
      "text/plain": [
       "HIGH      103\n",
       "NORMAL     97\n",
       "Name: Cholesterol, dtype: int64"
      ]
     },
     "execution_count": 7,
     "metadata": {},
     "output_type": "execute_result"
    }
   ],
   "source": [
    "my_data.Cholesterol.value_counts()"
   ]
  },
  {
   "cell_type": "code",
   "execution_count": 8,
   "metadata": {},
   "outputs": [
    {
     "data": {
      "text/html": [
       "<div>\n",
       "<style scoped>\n",
       "    .dataframe tbody tr th:only-of-type {\n",
       "        vertical-align: middle;\n",
       "    }\n",
       "\n",
       "    .dataframe tbody tr th {\n",
       "        vertical-align: top;\n",
       "    }\n",
       "\n",
       "    .dataframe thead th {\n",
       "        text-align: right;\n",
       "    }\n",
       "</style>\n",
       "<table border=\"1\" class=\"dataframe\">\n",
       "  <thead>\n",
       "    <tr style=\"text-align: right;\">\n",
       "      <th></th>\n",
       "      <th>Age</th>\n",
       "      <th>Sex</th>\n",
       "      <th>BP</th>\n",
       "      <th>Cholesterol</th>\n",
       "      <th>Na_to_K</th>\n",
       "      <th>Drug</th>\n",
       "    </tr>\n",
       "  </thead>\n",
       "  <tbody>\n",
       "    <tr>\n",
       "      <th>0</th>\n",
       "      <td>23</td>\n",
       "      <td>0</td>\n",
       "      <td>2</td>\n",
       "      <td>HIGH</td>\n",
       "      <td>25.355</td>\n",
       "      <td>drugY</td>\n",
       "    </tr>\n",
       "    <tr>\n",
       "      <th>1</th>\n",
       "      <td>47</td>\n",
       "      <td>1</td>\n",
       "      <td>0</td>\n",
       "      <td>HIGH</td>\n",
       "      <td>13.093</td>\n",
       "      <td>drugC</td>\n",
       "    </tr>\n",
       "    <tr>\n",
       "      <th>2</th>\n",
       "      <td>47</td>\n",
       "      <td>1</td>\n",
       "      <td>0</td>\n",
       "      <td>HIGH</td>\n",
       "      <td>10.114</td>\n",
       "      <td>drugC</td>\n",
       "    </tr>\n",
       "    <tr>\n",
       "      <th>3</th>\n",
       "      <td>28</td>\n",
       "      <td>0</td>\n",
       "      <td>1</td>\n",
       "      <td>HIGH</td>\n",
       "      <td>7.798</td>\n",
       "      <td>drugX</td>\n",
       "    </tr>\n",
       "    <tr>\n",
       "      <th>4</th>\n",
       "      <td>61</td>\n",
       "      <td>0</td>\n",
       "      <td>0</td>\n",
       "      <td>HIGH</td>\n",
       "      <td>18.043</td>\n",
       "      <td>drugY</td>\n",
       "    </tr>\n",
       "    <tr>\n",
       "      <th>...</th>\n",
       "      <td>...</td>\n",
       "      <td>...</td>\n",
       "      <td>...</td>\n",
       "      <td>...</td>\n",
       "      <td>...</td>\n",
       "      <td>...</td>\n",
       "    </tr>\n",
       "    <tr>\n",
       "      <th>195</th>\n",
       "      <td>56</td>\n",
       "      <td>0</td>\n",
       "      <td>0</td>\n",
       "      <td>HIGH</td>\n",
       "      <td>11.567</td>\n",
       "      <td>drugC</td>\n",
       "    </tr>\n",
       "    <tr>\n",
       "      <th>196</th>\n",
       "      <td>16</td>\n",
       "      <td>1</td>\n",
       "      <td>0</td>\n",
       "      <td>HIGH</td>\n",
       "      <td>12.006</td>\n",
       "      <td>drugC</td>\n",
       "    </tr>\n",
       "    <tr>\n",
       "      <th>197</th>\n",
       "      <td>52</td>\n",
       "      <td>1</td>\n",
       "      <td>1</td>\n",
       "      <td>HIGH</td>\n",
       "      <td>9.894</td>\n",
       "      <td>drugX</td>\n",
       "    </tr>\n",
       "    <tr>\n",
       "      <th>198</th>\n",
       "      <td>23</td>\n",
       "      <td>1</td>\n",
       "      <td>1</td>\n",
       "      <td>NORMAL</td>\n",
       "      <td>14.020</td>\n",
       "      <td>drugX</td>\n",
       "    </tr>\n",
       "    <tr>\n",
       "      <th>199</th>\n",
       "      <td>40</td>\n",
       "      <td>0</td>\n",
       "      <td>0</td>\n",
       "      <td>NORMAL</td>\n",
       "      <td>11.349</td>\n",
       "      <td>drugX</td>\n",
       "    </tr>\n",
       "  </tbody>\n",
       "</table>\n",
       "<p>200 rows × 6 columns</p>\n",
       "</div>"
      ],
      "text/plain": [
       "     Age  Sex  BP Cholesterol  Na_to_K   Drug\n",
       "0     23    0   2        HIGH   25.355  drugY\n",
       "1     47    1   0        HIGH   13.093  drugC\n",
       "2     47    1   0        HIGH   10.114  drugC\n",
       "3     28    0   1        HIGH    7.798  drugX\n",
       "4     61    0   0        HIGH   18.043  drugY\n",
       "..   ...  ...  ..         ...      ...    ...\n",
       "195   56    0   0        HIGH   11.567  drugC\n",
       "196   16    1   0        HIGH   12.006  drugC\n",
       "197   52    1   1        HIGH    9.894  drugX\n",
       "198   23    1   1      NORMAL   14.020  drugX\n",
       "199   40    0   0      NORMAL   11.349  drugX\n",
       "\n",
       "[200 rows x 6 columns]"
      ]
     },
     "execution_count": 8,
     "metadata": {},
     "output_type": "execute_result"
    }
   ],
   "source": [
    "cond_bp = {'HIGH':2, 'LOW':0,'NORMAL':1}\n",
    "my_data['BP'] = my_data['BP'].replace(cond_bp)\n",
    "my_data"
   ]
  },
  {
   "cell_type": "code",
   "execution_count": 9,
   "metadata": {},
   "outputs": [
    {
     "data": {
      "text/html": [
       "<div>\n",
       "<style scoped>\n",
       "    .dataframe tbody tr th:only-of-type {\n",
       "        vertical-align: middle;\n",
       "    }\n",
       "\n",
       "    .dataframe tbody tr th {\n",
       "        vertical-align: top;\n",
       "    }\n",
       "\n",
       "    .dataframe thead th {\n",
       "        text-align: right;\n",
       "    }\n",
       "</style>\n",
       "<table border=\"1\" class=\"dataframe\">\n",
       "  <thead>\n",
       "    <tr style=\"text-align: right;\">\n",
       "      <th></th>\n",
       "      <th>Age</th>\n",
       "      <th>Sex</th>\n",
       "      <th>BP</th>\n",
       "      <th>Cholesterol</th>\n",
       "      <th>Na_to_K</th>\n",
       "      <th>Drug</th>\n",
       "    </tr>\n",
       "  </thead>\n",
       "  <tbody>\n",
       "    <tr>\n",
       "      <th>0</th>\n",
       "      <td>23</td>\n",
       "      <td>0</td>\n",
       "      <td>2</td>\n",
       "      <td>1</td>\n",
       "      <td>25.355</td>\n",
       "      <td>drugY</td>\n",
       "    </tr>\n",
       "    <tr>\n",
       "      <th>1</th>\n",
       "      <td>47</td>\n",
       "      <td>1</td>\n",
       "      <td>0</td>\n",
       "      <td>1</td>\n",
       "      <td>13.093</td>\n",
       "      <td>drugC</td>\n",
       "    </tr>\n",
       "    <tr>\n",
       "      <th>2</th>\n",
       "      <td>47</td>\n",
       "      <td>1</td>\n",
       "      <td>0</td>\n",
       "      <td>1</td>\n",
       "      <td>10.114</td>\n",
       "      <td>drugC</td>\n",
       "    </tr>\n",
       "    <tr>\n",
       "      <th>3</th>\n",
       "      <td>28</td>\n",
       "      <td>0</td>\n",
       "      <td>1</td>\n",
       "      <td>1</td>\n",
       "      <td>7.798</td>\n",
       "      <td>drugX</td>\n",
       "    </tr>\n",
       "    <tr>\n",
       "      <th>4</th>\n",
       "      <td>61</td>\n",
       "      <td>0</td>\n",
       "      <td>0</td>\n",
       "      <td>1</td>\n",
       "      <td>18.043</td>\n",
       "      <td>drugY</td>\n",
       "    </tr>\n",
       "    <tr>\n",
       "      <th>...</th>\n",
       "      <td>...</td>\n",
       "      <td>...</td>\n",
       "      <td>...</td>\n",
       "      <td>...</td>\n",
       "      <td>...</td>\n",
       "      <td>...</td>\n",
       "    </tr>\n",
       "    <tr>\n",
       "      <th>195</th>\n",
       "      <td>56</td>\n",
       "      <td>0</td>\n",
       "      <td>0</td>\n",
       "      <td>1</td>\n",
       "      <td>11.567</td>\n",
       "      <td>drugC</td>\n",
       "    </tr>\n",
       "    <tr>\n",
       "      <th>196</th>\n",
       "      <td>16</td>\n",
       "      <td>1</td>\n",
       "      <td>0</td>\n",
       "      <td>1</td>\n",
       "      <td>12.006</td>\n",
       "      <td>drugC</td>\n",
       "    </tr>\n",
       "    <tr>\n",
       "      <th>197</th>\n",
       "      <td>52</td>\n",
       "      <td>1</td>\n",
       "      <td>1</td>\n",
       "      <td>1</td>\n",
       "      <td>9.894</td>\n",
       "      <td>drugX</td>\n",
       "    </tr>\n",
       "    <tr>\n",
       "      <th>198</th>\n",
       "      <td>23</td>\n",
       "      <td>1</td>\n",
       "      <td>1</td>\n",
       "      <td>0</td>\n",
       "      <td>14.020</td>\n",
       "      <td>drugX</td>\n",
       "    </tr>\n",
       "    <tr>\n",
       "      <th>199</th>\n",
       "      <td>40</td>\n",
       "      <td>0</td>\n",
       "      <td>0</td>\n",
       "      <td>0</td>\n",
       "      <td>11.349</td>\n",
       "      <td>drugX</td>\n",
       "    </tr>\n",
       "  </tbody>\n",
       "</table>\n",
       "<p>200 rows × 6 columns</p>\n",
       "</div>"
      ],
      "text/plain": [
       "     Age  Sex  BP  Cholesterol  Na_to_K   Drug\n",
       "0     23    0   2            1   25.355  drugY\n",
       "1     47    1   0            1   13.093  drugC\n",
       "2     47    1   0            1   10.114  drugC\n",
       "3     28    0   1            1    7.798  drugX\n",
       "4     61    0   0            1   18.043  drugY\n",
       "..   ...  ...  ..          ...      ...    ...\n",
       "195   56    0   0            1   11.567  drugC\n",
       "196   16    1   0            1   12.006  drugC\n",
       "197   52    1   1            1    9.894  drugX\n",
       "198   23    1   1            0   14.020  drugX\n",
       "199   40    0   0            0   11.349  drugX\n",
       "\n",
       "[200 rows x 6 columns]"
      ]
     },
     "execution_count": 9,
     "metadata": {},
     "output_type": "execute_result"
    }
   ],
   "source": [
    "cond_ch = {'HIGH':1,'NORMAL':0}\n",
    "my_data['Cholesterol'] = my_data['Cholesterol'].replace(cond_ch)\n",
    "my_data"
   ]
  },
  {
   "cell_type": "markdown",
   "metadata": {},
   "source": [
    "Now we can fill the target variable."
   ]
  },
  {
   "cell_type": "code",
   "execution_count": 10,
   "metadata": {
    "button": false,
    "new_sheet": false,
    "run_control": {
     "read_only": false
    }
   },
   "outputs": [
    {
     "data": {
      "text/plain": [
       "0    drugY\n",
       "1    drugC\n",
       "2    drugC\n",
       "3    drugX\n",
       "4    drugY\n",
       "Name: Drug, dtype: object"
      ]
     },
     "execution_count": 10,
     "metadata": {},
     "output_type": "execute_result"
    }
   ],
   "source": [
    "y = my_data[\"Drug\"]\n",
    "y[0:5]"
   ]
  },
  {
   "cell_type": "markdown",
   "metadata": {},
   "source": [
    "### we're encoding the \"Label\" with \"LabelEncoder\""
   ]
  },
  {
   "cell_type": "code",
   "execution_count": 13,
   "metadata": {},
   "outputs": [
    {
     "data": {
      "text/plain": [
       "array([[23.   ,  0.   ,  2.   ,  1.   , 25.355],\n",
       "       [47.   ,  1.   ,  0.   ,  1.   , 13.093],\n",
       "       [47.   ,  1.   ,  0.   ,  1.   , 10.114],\n",
       "       [28.   ,  0.   ,  1.   ,  1.   ,  7.798],\n",
       "       [61.   ,  0.   ,  0.   ,  1.   , 18.043],\n",
       "       [22.   ,  0.   ,  1.   ,  1.   ,  8.607],\n",
       "       [49.   ,  0.   ,  1.   ,  1.   , 16.275],\n",
       "       [41.   ,  1.   ,  0.   ,  1.   , 11.037],\n",
       "       [60.   ,  1.   ,  1.   ,  1.   , 15.171],\n",
       "       [43.   ,  1.   ,  0.   ,  0.   , 19.368],\n",
       "       [47.   ,  0.   ,  0.   ,  1.   , 11.767],\n",
       "       [34.   ,  0.   ,  2.   ,  0.   , 19.199],\n",
       "       [43.   ,  1.   ,  0.   ,  1.   , 15.376],\n",
       "       [74.   ,  0.   ,  0.   ,  1.   , 20.942],\n",
       "       [50.   ,  0.   ,  1.   ,  1.   , 12.703],\n",
       "       [16.   ,  0.   ,  2.   ,  0.   , 15.516],\n",
       "       [69.   ,  1.   ,  0.   ,  0.   , 11.455],\n",
       "       [43.   ,  1.   ,  2.   ,  1.   , 13.972],\n",
       "       [23.   ,  1.   ,  0.   ,  1.   ,  7.298],\n",
       "       [32.   ,  0.   ,  2.   ,  0.   , 25.974],\n",
       "       [57.   ,  1.   ,  0.   ,  0.   , 19.128],\n",
       "       [63.   ,  1.   ,  1.   ,  1.   , 25.917],\n",
       "       [47.   ,  1.   ,  0.   ,  0.   , 30.568],\n",
       "       [48.   ,  0.   ,  0.   ,  1.   , 15.036],\n",
       "       [33.   ,  0.   ,  0.   ,  1.   , 33.486],\n",
       "       [28.   ,  0.   ,  2.   ,  0.   , 18.809],\n",
       "       [31.   ,  1.   ,  2.   ,  1.   , 30.366],\n",
       "       [49.   ,  0.   ,  1.   ,  0.   ,  9.381],\n",
       "       [39.   ,  0.   ,  0.   ,  0.   , 22.697],\n",
       "       [45.   ,  1.   ,  0.   ,  1.   , 17.951],\n",
       "       [18.   ,  0.   ,  1.   ,  0.   ,  8.75 ],\n",
       "       [74.   ,  1.   ,  2.   ,  1.   ,  9.567],\n",
       "       [49.   ,  1.   ,  0.   ,  0.   , 11.014],\n",
       "       [65.   ,  0.   ,  2.   ,  0.   , 31.876],\n",
       "       [53.   ,  1.   ,  1.   ,  1.   , 14.133],\n",
       "       [46.   ,  1.   ,  1.   ,  0.   ,  7.285],\n",
       "       [32.   ,  1.   ,  2.   ,  0.   ,  9.445],\n",
       "       [39.   ,  1.   ,  0.   ,  0.   , 13.938],\n",
       "       [39.   ,  0.   ,  1.   ,  0.   ,  9.709],\n",
       "       [15.   ,  1.   ,  1.   ,  1.   ,  9.084],\n",
       "       [73.   ,  0.   ,  1.   ,  1.   , 19.221],\n",
       "       [58.   ,  0.   ,  2.   ,  0.   , 14.239],\n",
       "       [50.   ,  1.   ,  1.   ,  0.   , 15.79 ],\n",
       "       [23.   ,  1.   ,  1.   ,  1.   , 12.26 ],\n",
       "       [50.   ,  0.   ,  1.   ,  0.   , 12.295],\n",
       "       [66.   ,  0.   ,  1.   ,  0.   ,  8.107],\n",
       "       [37.   ,  0.   ,  2.   ,  1.   , 13.091],\n",
       "       [68.   ,  1.   ,  0.   ,  1.   , 10.291],\n",
       "       [23.   ,  1.   ,  1.   ,  1.   , 31.686],\n",
       "       [28.   ,  0.   ,  0.   ,  1.   , 19.796],\n",
       "       [58.   ,  0.   ,  2.   ,  1.   , 19.416],\n",
       "       [67.   ,  1.   ,  1.   ,  0.   , 10.898],\n",
       "       [62.   ,  1.   ,  0.   ,  0.   , 27.183],\n",
       "       [24.   ,  0.   ,  2.   ,  0.   , 18.457],\n",
       "       [68.   ,  0.   ,  2.   ,  0.   , 10.189],\n",
       "       [26.   ,  0.   ,  0.   ,  1.   , 14.16 ],\n",
       "       [65.   ,  1.   ,  2.   ,  0.   , 11.34 ],\n",
       "       [40.   ,  1.   ,  2.   ,  1.   , 27.826],\n",
       "       [60.   ,  1.   ,  1.   ,  0.   , 10.091],\n",
       "       [34.   ,  1.   ,  2.   ,  1.   , 18.703],\n",
       "       [38.   ,  0.   ,  0.   ,  0.   , 29.875],\n",
       "       [24.   ,  1.   ,  2.   ,  0.   ,  9.475],\n",
       "       [67.   ,  1.   ,  0.   ,  0.   , 20.693],\n",
       "       [45.   ,  1.   ,  0.   ,  0.   ,  8.37 ],\n",
       "       [60.   ,  0.   ,  2.   ,  1.   , 13.303],\n",
       "       [68.   ,  0.   ,  1.   ,  0.   , 27.05 ],\n",
       "       [29.   ,  1.   ,  2.   ,  1.   , 12.856],\n",
       "       [17.   ,  1.   ,  1.   ,  0.   , 10.832],\n",
       "       [54.   ,  1.   ,  1.   ,  1.   , 24.658],\n",
       "       [18.   ,  0.   ,  2.   ,  0.   , 24.276],\n",
       "       [70.   ,  1.   ,  2.   ,  1.   , 13.967],\n",
       "       [28.   ,  0.   ,  1.   ,  1.   , 19.675],\n",
       "       [24.   ,  0.   ,  1.   ,  1.   , 10.605],\n",
       "       [41.   ,  0.   ,  1.   ,  0.   , 22.905],\n",
       "       [31.   ,  1.   ,  2.   ,  0.   , 17.069],\n",
       "       [26.   ,  1.   ,  0.   ,  0.   , 20.909],\n",
       "       [36.   ,  0.   ,  2.   ,  1.   , 11.198],\n",
       "       [26.   ,  0.   ,  2.   ,  0.   , 19.161],\n",
       "       [19.   ,  0.   ,  2.   ,  1.   , 13.313],\n",
       "       [32.   ,  0.   ,  0.   ,  0.   , 10.84 ],\n",
       "       [60.   ,  1.   ,  2.   ,  1.   , 13.934],\n",
       "       [64.   ,  1.   ,  1.   ,  1.   ,  7.761],\n",
       "       [32.   ,  0.   ,  0.   ,  1.   ,  9.712],\n",
       "       [38.   ,  0.   ,  2.   ,  0.   , 11.326],\n",
       "       [47.   ,  0.   ,  0.   ,  1.   , 10.067],\n",
       "       [59.   ,  1.   ,  2.   ,  1.   , 13.935],\n",
       "       [51.   ,  0.   ,  1.   ,  1.   , 13.597],\n",
       "       [69.   ,  1.   ,  0.   ,  1.   , 15.478],\n",
       "       [37.   ,  0.   ,  2.   ,  0.   , 23.091],\n",
       "       [50.   ,  0.   ,  1.   ,  0.   , 17.211],\n",
       "       [62.   ,  1.   ,  1.   ,  1.   , 16.594],\n",
       "       [41.   ,  1.   ,  2.   ,  0.   , 15.156],\n",
       "       [29.   ,  0.   ,  2.   ,  1.   , 29.45 ],\n",
       "       [42.   ,  0.   ,  0.   ,  0.   , 29.271],\n",
       "       [56.   ,  1.   ,  0.   ,  1.   , 15.015],\n",
       "       [36.   ,  1.   ,  0.   ,  0.   , 11.424],\n",
       "       [58.   ,  0.   ,  0.   ,  1.   , 38.247],\n",
       "       [56.   ,  0.   ,  2.   ,  1.   , 25.395],\n",
       "       [20.   ,  1.   ,  2.   ,  0.   , 35.639],\n",
       "       [15.   ,  0.   ,  2.   ,  0.   , 16.725],\n",
       "       [31.   ,  1.   ,  2.   ,  0.   , 11.871],\n",
       "       [45.   ,  0.   ,  2.   ,  1.   , 12.854],\n",
       "       [28.   ,  0.   ,  0.   ,  1.   , 13.127],\n",
       "       [56.   ,  1.   ,  1.   ,  1.   ,  8.966],\n",
       "       [22.   ,  1.   ,  2.   ,  0.   , 28.294],\n",
       "       [37.   ,  1.   ,  0.   ,  0.   ,  8.968],\n",
       "       [22.   ,  1.   ,  1.   ,  1.   , 11.953],\n",
       "       [42.   ,  1.   ,  0.   ,  1.   , 20.013],\n",
       "       [72.   ,  1.   ,  2.   ,  0.   ,  9.677],\n",
       "       [23.   ,  1.   ,  1.   ,  1.   , 16.85 ],\n",
       "       [50.   ,  1.   ,  2.   ,  1.   ,  7.49 ],\n",
       "       [47.   ,  0.   ,  1.   ,  0.   ,  6.683],\n",
       "       [35.   ,  1.   ,  0.   ,  0.   ,  9.17 ],\n",
       "       [65.   ,  0.   ,  0.   ,  0.   , 13.769],\n",
       "       [20.   ,  0.   ,  1.   ,  0.   ,  9.281],\n",
       "       [51.   ,  1.   ,  2.   ,  1.   , 18.295],\n",
       "       [67.   ,  1.   ,  1.   ,  0.   ,  9.514],\n",
       "       [40.   ,  0.   ,  1.   ,  1.   , 10.103],\n",
       "       [32.   ,  0.   ,  2.   ,  0.   , 10.292],\n",
       "       [61.   ,  0.   ,  2.   ,  1.   , 25.475],\n",
       "       [28.   ,  1.   ,  1.   ,  1.   , 27.064],\n",
       "       [15.   ,  1.   ,  2.   ,  0.   , 17.206],\n",
       "       [34.   ,  1.   ,  1.   ,  1.   , 22.456],\n",
       "       [36.   ,  0.   ,  1.   ,  1.   , 16.753],\n",
       "       [53.   ,  0.   ,  2.   ,  0.   , 12.495],\n",
       "       [19.   ,  0.   ,  2.   ,  0.   , 25.969],\n",
       "       [66.   ,  1.   ,  2.   ,  1.   , 16.347],\n",
       "       [35.   ,  1.   ,  1.   ,  0.   ,  7.845],\n",
       "       [47.   ,  1.   ,  0.   ,  0.   , 33.542],\n",
       "       [32.   ,  0.   ,  1.   ,  1.   ,  7.477],\n",
       "       [70.   ,  0.   ,  1.   ,  1.   , 20.489],\n",
       "       [52.   ,  1.   ,  0.   ,  0.   , 32.922],\n",
       "       [49.   ,  1.   ,  0.   ,  0.   , 13.598],\n",
       "       [24.   ,  1.   ,  1.   ,  1.   , 25.786],\n",
       "       [42.   ,  0.   ,  2.   ,  1.   , 21.036],\n",
       "       [74.   ,  1.   ,  0.   ,  0.   , 11.939],\n",
       "       [55.   ,  0.   ,  2.   ,  1.   , 10.977],\n",
       "       [35.   ,  0.   ,  2.   ,  1.   , 12.894],\n",
       "       [51.   ,  1.   ,  2.   ,  0.   , 11.343],\n",
       "       [69.   ,  0.   ,  1.   ,  1.   , 10.065],\n",
       "       [49.   ,  1.   ,  2.   ,  0.   ,  6.269],\n",
       "       [64.   ,  0.   ,  0.   ,  0.   , 25.741],\n",
       "       [60.   ,  1.   ,  2.   ,  0.   ,  8.621],\n",
       "       [74.   ,  1.   ,  2.   ,  0.   , 15.436],\n",
       "       [39.   ,  1.   ,  2.   ,  1.   ,  9.664],\n",
       "       [61.   ,  1.   ,  1.   ,  1.   ,  9.443],\n",
       "       [37.   ,  0.   ,  0.   ,  0.   , 12.006],\n",
       "       [26.   ,  0.   ,  2.   ,  0.   , 12.307],\n",
       "       [61.   ,  0.   ,  0.   ,  0.   ,  7.34 ],\n",
       "       [22.   ,  1.   ,  0.   ,  1.   ,  8.151],\n",
       "       [49.   ,  1.   ,  2.   ,  0.   ,  8.7  ],\n",
       "       [68.   ,  1.   ,  2.   ,  1.   , 11.009],\n",
       "       [55.   ,  1.   ,  1.   ,  0.   ,  7.261],\n",
       "       [72.   ,  0.   ,  0.   ,  0.   , 14.642],\n",
       "       [37.   ,  1.   ,  0.   ,  0.   , 16.724],\n",
       "       [49.   ,  1.   ,  0.   ,  1.   , 10.537],\n",
       "       [31.   ,  1.   ,  2.   ,  0.   , 11.227],\n",
       "       [53.   ,  1.   ,  0.   ,  1.   , 22.963],\n",
       "       [59.   ,  0.   ,  0.   ,  1.   , 10.444],\n",
       "       [34.   ,  0.   ,  0.   ,  0.   , 12.923],\n",
       "       [30.   ,  0.   ,  1.   ,  1.   , 10.443],\n",
       "       [57.   ,  0.   ,  2.   ,  0.   ,  9.945],\n",
       "       [43.   ,  1.   ,  1.   ,  0.   , 12.859],\n",
       "       [21.   ,  0.   ,  2.   ,  0.   , 28.632],\n",
       "       [16.   ,  1.   ,  2.   ,  0.   , 19.007],\n",
       "       [38.   ,  1.   ,  0.   ,  1.   , 18.295],\n",
       "       [58.   ,  0.   ,  0.   ,  1.   , 26.645],\n",
       "       [57.   ,  0.   ,  1.   ,  1.   , 14.216],\n",
       "       [51.   ,  0.   ,  0.   ,  0.   , 23.003],\n",
       "       [20.   ,  0.   ,  2.   ,  1.   , 11.262],\n",
       "       [28.   ,  0.   ,  1.   ,  1.   , 12.879],\n",
       "       [45.   ,  1.   ,  0.   ,  0.   , 10.017],\n",
       "       [39.   ,  0.   ,  1.   ,  0.   , 17.225],\n",
       "       [41.   ,  0.   ,  0.   ,  0.   , 18.739],\n",
       "       [42.   ,  1.   ,  2.   ,  0.   , 12.766],\n",
       "       [73.   ,  0.   ,  2.   ,  1.   , 18.348],\n",
       "       [48.   ,  1.   ,  2.   ,  0.   , 10.446],\n",
       "       [25.   ,  1.   ,  1.   ,  1.   , 19.011],\n",
       "       [39.   ,  1.   ,  1.   ,  1.   , 15.969],\n",
       "       [67.   ,  0.   ,  1.   ,  1.   , 15.891],\n",
       "       [22.   ,  0.   ,  2.   ,  0.   , 22.818],\n",
       "       [59.   ,  0.   ,  1.   ,  1.   , 13.884],\n",
       "       [20.   ,  0.   ,  0.   ,  0.   , 11.686],\n",
       "       [36.   ,  0.   ,  2.   ,  0.   , 15.49 ],\n",
       "       [18.   ,  0.   ,  2.   ,  1.   , 37.188],\n",
       "       [57.   ,  0.   ,  1.   ,  0.   , 25.893],\n",
       "       [70.   ,  1.   ,  2.   ,  1.   ,  9.849],\n",
       "       [47.   ,  1.   ,  2.   ,  1.   , 10.403],\n",
       "       [65.   ,  1.   ,  2.   ,  0.   , 34.997],\n",
       "       [64.   ,  1.   ,  2.   ,  0.   , 20.932],\n",
       "       [58.   ,  1.   ,  2.   ,  1.   , 18.991],\n",
       "       [23.   ,  1.   ,  2.   ,  1.   ,  8.011],\n",
       "       [72.   ,  1.   ,  0.   ,  1.   , 16.31 ],\n",
       "       [72.   ,  1.   ,  0.   ,  1.   ,  6.769],\n",
       "       [46.   ,  0.   ,  2.   ,  1.   , 34.686],\n",
       "       [56.   ,  0.   ,  0.   ,  1.   , 11.567],\n",
       "       [16.   ,  1.   ,  0.   ,  1.   , 12.006],\n",
       "       [52.   ,  1.   ,  1.   ,  1.   ,  9.894],\n",
       "       [23.   ,  1.   ,  1.   ,  0.   , 14.02 ],\n",
       "       [40.   ,  0.   ,  0.   ,  0.   , 11.349]])"
      ]
     },
     "execution_count": 13,
     "metadata": {},
     "output_type": "execute_result"
    }
   ],
   "source": [
    "X = my_data[['Age', 'Sex', 'BP', 'Cholesterol', 'Na_to_K']].values\n",
    "X"
   ]
  },
  {
   "cell_type": "markdown",
   "metadata": {
    "button": false,
    "new_sheet": false,
    "run_control": {
     "read_only": false
    }
   },
   "source": [
    "<hr>\n",
    "\n",
    "<div id=\"setting_up_tree\">\n",
    "    <h2>Setting up the Decision Tree</h2>\n",
    "    We will be using <b>train/test split</b> on our <b>decision tree</b>. Let's import <b>train_test_split</b> from <b>sklearn.cross_validation</b>.\n",
    "</div>"
   ]
  },
  {
   "cell_type": "code",
   "execution_count": 14,
   "metadata": {
    "button": false,
    "new_sheet": false,
    "run_control": {
     "read_only": false
    }
   },
   "outputs": [],
   "source": [
    "from sklearn.model_selection import train_test_split"
   ]
  },
  {
   "cell_type": "markdown",
   "metadata": {
    "button": false,
    "new_sheet": false,
    "run_control": {
     "read_only": false
    }
   },
   "source": [
    "Now <b> train_test_split </b> will return 4 different parameters. We will name them:<br>\n",
    "X_train, X_test, y_train, y_test <br> <br>\n",
    "The <b> train_test_split </b> will need the parameters: <br>\n",
    "X, y, test_size=0.3, and random_state=3. <br> <br>\n",
    "The <b>X</b> and <b>y</b> are the arrays required before the split, the <b>test_size</b> represents the ratio of the testing dataset, and the <b>random_state</b> ensures that we obtain the same splits."
   ]
  },
  {
   "cell_type": "code",
   "execution_count": 15,
   "metadata": {
    "button": false,
    "new_sheet": false,
    "run_control": {
     "read_only": false
    }
   },
   "outputs": [],
   "source": [
    "X_train, X_test, y_train, y_test = train_test_split(X, y, test_size=0.3, random_state=3)"
   ]
  },
  {
   "cell_type": "markdown",
   "metadata": {
    "button": false,
    "new_sheet": false,
    "run_control": {
     "read_only": false
    }
   },
   "source": [
    "<h3>Practice</h3>\n",
    "Print the shape of X_trainset and y_trainset. Ensure that the dimensions match"
   ]
  },
  {
   "cell_type": "code",
   "execution_count": 17,
   "metadata": {
    "button": false,
    "jupyter": {
     "outputs_hidden": true
    },
    "new_sheet": false,
    "run_control": {
     "read_only": false
    }
   },
   "outputs": [
    {
     "name": "stdout",
     "output_type": "stream",
     "text": [
      "(140, 5)\n",
      "(140,)\n"
     ]
    }
   ],
   "source": [
    "print(X_train.shape)\n",
    "print(y_train.shape)"
   ]
  },
  {
   "cell_type": "markdown",
   "metadata": {
    "button": false,
    "new_sheet": false,
    "run_control": {
     "read_only": false
    }
   },
   "source": [
    "Print the shape of X_testset and y_testset. Ensure that the dimensions match"
   ]
  },
  {
   "cell_type": "code",
   "execution_count": 18,
   "metadata": {
    "button": false,
    "jupyter": {
     "outputs_hidden": true
    },
    "new_sheet": false,
    "run_control": {
     "read_only": false
    }
   },
   "outputs": [
    {
     "name": "stdout",
     "output_type": "stream",
     "text": [
      "(60, 5)\n",
      "(60,)\n"
     ]
    }
   ],
   "source": [
    "print(X_test.shape)\n",
    "print(y_test.shape)"
   ]
  },
  {
   "cell_type": "markdown",
   "metadata": {
    "button": false,
    "new_sheet": false,
    "run_control": {
     "read_only": false
    }
   },
   "source": [
    "<hr>\n",
    "\n",
    "<div id=\"modeling\">\n",
    "    <h2>Modeling</h2>\n",
    "    We will first create an instance of the <b>DecisionTreeClassifier</b> called <b>drugTree</b>.<br>\n",
    "    Inside of the classifier, specify <i> criterion=\"entropy\" </i> so we can see the information gain of each node.\n",
    "</div>"
   ]
  },
  {
   "cell_type": "code",
   "execution_count": 19,
   "metadata": {
    "button": false,
    "new_sheet": false,
    "run_control": {
     "read_only": false
    }
   },
   "outputs": [
    {
     "data": {
      "text/plain": [
       "DecisionTreeClassifier(criterion='entropy', max_depth=15)"
      ]
     },
     "execution_count": 19,
     "metadata": {},
     "output_type": "execute_result"
    }
   ],
   "source": [
    "drugTree = DecisionTreeClassifier(criterion=\"entropy\", max_depth = 15)\n",
    "drugTree # it shows the default parameters"
   ]
  },
  {
   "cell_type": "markdown",
   "metadata": {
    "button": false,
    "new_sheet": false,
    "run_control": {
     "read_only": false
    }
   },
   "source": [
    "Next, we will fit the data with the training feature matrix <b> X_trainset </b> and training  response vector <b> y_trainset </b>"
   ]
  },
  {
   "cell_type": "code",
   "execution_count": 20,
   "metadata": {
    "button": false,
    "new_sheet": false,
    "run_control": {
     "read_only": false
    }
   },
   "outputs": [
    {
     "data": {
      "text/plain": [
       "DecisionTreeClassifier(criterion='entropy', max_depth=15)"
      ]
     },
     "execution_count": 20,
     "metadata": {},
     "output_type": "execute_result"
    }
   ],
   "source": [
    "drugTree.fit(X_train,y_train)"
   ]
  },
  {
   "cell_type": "markdown",
   "metadata": {
    "button": false,
    "new_sheet": false,
    "run_control": {
     "read_only": false
    }
   },
   "source": [
    "<hr>\n",
    "\n",
    "<div id=\"prediction\">\n",
    "    <h2>Prediction</h2>\n",
    "    Let's make some <b>predictions</b> on the testing dataset and store it into a variable called <b>predTree</b>.\n",
    "</div>"
   ]
  },
  {
   "cell_type": "code",
   "execution_count": 21,
   "metadata": {
    "button": false,
    "new_sheet": false,
    "run_control": {
     "read_only": false
    }
   },
   "outputs": [],
   "source": [
    "predTree = drugTree.predict(X_test)"
   ]
  },
  {
   "cell_type": "markdown",
   "metadata": {
    "button": false,
    "new_sheet": false,
    "run_control": {
     "read_only": false
    }
   },
   "source": [
    "You can print out <b>predTree</b> and <b>y_test</b> if you want to visually compare the prediction to the actual values."
   ]
  },
  {
   "cell_type": "code",
   "execution_count": 22,
   "metadata": {
    "button": false,
    "new_sheet": false,
    "run_control": {
     "read_only": false
    },
    "scrolled": true
   },
   "outputs": [
    {
     "name": "stdout",
     "output_type": "stream",
     "text": [
      "['drugY' 'drugX' 'drugX' 'drugX' 'drugX']\n",
      "40     drugY\n",
      "51     drugX\n",
      "139    drugX\n",
      "197    drugX\n",
      "170    drugX\n",
      "Name: Drug, dtype: object\n"
     ]
    }
   ],
   "source": [
    "print (predTree [0:5])\n",
    "print (y_test [0:5])\n"
   ]
  },
  {
   "cell_type": "markdown",
   "metadata": {
    "button": false,
    "new_sheet": false,
    "run_control": {
     "read_only": false
    }
   },
   "source": [
    "<hr>\n",
    "\n",
    "<div id=\"evaluation\">\n",
    "    <h2>Evaluation</h2>\n",
    "    Next, let's import <b>metrics</b> from sklearn and check the accuracy of our model.\n",
    "</div>"
   ]
  },
  {
   "cell_type": "code",
   "execution_count": 23,
   "metadata": {
    "button": false,
    "new_sheet": false,
    "run_control": {
     "read_only": false
    }
   },
   "outputs": [
    {
     "name": "stdout",
     "output_type": "stream",
     "text": [
      "DecisionTrees's Accuracy:  0.9833333333333333\n"
     ]
    }
   ],
   "source": [
    "print(\"DecisionTrees's Accuracy: \", metrics.accuracy_score(y_test, predTree))"
   ]
  },
  {
   "cell_type": "markdown",
   "metadata": {
    "button": false,
    "new_sheet": false,
    "run_control": {
     "read_only": false
    }
   },
   "source": [
    "# Practice \n",
    "\n",
    "## Show and try to explain confusion matrix\n",
    "\n",
    "## Calculate F1 score, Precision and Recall"
   ]
  },
  {
   "cell_type": "code",
   "execution_count": 24,
   "metadata": {},
   "outputs": [
    {
     "name": "stdout",
     "output_type": "stream",
     "text": [
      "DecisionTrees 's Confusion Matrix: [[ 7  0  0  0  0]\n",
      " [ 0  5  0  0  0]\n",
      " [ 0  0  5  0  0]\n",
      " [ 0  0  0 20  1]\n",
      " [ 0  0  0  0 22]]\n"
     ]
    },
    {
     "data": {
      "image/png": "[encoded data removed]",
      "text/plain": [
       "<Figure size 432x288 with 2 Axes>"
      ]
     },
     "metadata": {
      "needs_background": "light"
     },
     "output_type": "display_data"
    }
   ],
   "source": [
    "cm =  metrics.confusion_matrix(y_test, predTree)\n",
    "print(\"DecisionTrees 's Confusion Matrix:\", metrics.confusion_matrix(y_test, predTree))\n",
    "ax= plt.subplot()\n",
    "sns.heatmap(cm, annot=True, fmt='g', ax=ax);  #annot=True to annotate cells, ftm='g' to disable scientific notation\n",
    "# labels, title and ticks\n",
    "ax.set_xlabel('Predicted labels');ax.set_ylabel('True labels');\n",
    "ax.set_title('Confusion Matrix');"
   ]
  },
  {
   "cell_type": "code",
   "execution_count": 25,
   "metadata": {},
   "outputs": [
    {
     "name": "stdout",
     "output_type": "stream",
     "text": [
      "DecisionTrees 's F1 score: 0.9906775067750677\n",
      "DecisionTrees 's F1 score: 0.9833333333333333\n",
      "DecisionTrees 's F1 score: 0.9833152664859981\n",
      "DecisionTrees 's F1 score: [1.         1.         1.         0.97560976 0.97777778]\n"
     ]
    }
   ],
   "source": [
    "print(\"DecisionTrees 's F1 score:\",metrics.f1_score(y_test, predTree, average='macro'))\n",
    "print(\"DecisionTrees 's F1 score:\",metrics.f1_score(y_test, predTree, average='micro'))\n",
    "print(\"DecisionTrees 's F1 score:\",metrics.f1_score(y_test, predTree, average='weighted'))\n",
    "print(\"DecisionTrees 's F1 score:\",metrics.f1_score(y_test, predTree, average=None))"
   ]
  },
  {
   "cell_type": "code",
   "execution_count": 26,
   "metadata": {},
   "outputs": [
    {
     "name": "stdout",
     "output_type": "stream",
     "text": [
      "DecisionTrees 's Precision: 0.9913043478260869\n",
      "DecisionTrees 's Precision: 0.9833333333333333\n",
      "DecisionTrees 's Precision: 0.9833333333333333\n",
      "DecisionTrees 's F1 score: [1.         1.         1.         1.         0.95652174]\n"
     ]
    }
   ],
   "source": [
    "print(\"DecisionTrees 's Precision:\",metrics.precision_score(y_test, predTree, average='macro'))\n",
    "print(\"DecisionTrees 's Precision:\",metrics.precision_score(y_test, predTree, average='micro'))\n",
    "print(\"DecisionTrees 's Precision:\",metrics.precision_score(y_test, predTree, average='micro'))\n",
    "print(\"DecisionTrees 's F1 score:\",metrics.precision_score(y_test, predTree, average=None))"
   ]
  },
  {
   "cell_type": "code",
   "execution_count": 27,
   "metadata": {},
   "outputs": [
    {
     "name": "stdout",
     "output_type": "stream",
     "text": [
      "              precision    recall  f1-score   support\n",
      "\n",
      "       drugA       1.00      1.00      1.00         7\n",
      "       drugB       1.00      1.00      1.00         5\n",
      "       drugC       1.00      1.00      1.00         5\n",
      "       drugX       1.00      0.95      0.98        21\n",
      "       drugY       0.96      1.00      0.98        22\n",
      "\n",
      "    accuracy                           0.98        60\n",
      "   macro avg       0.99      0.99      0.99        60\n",
      "weighted avg       0.98      0.98      0.98        60\n",
      "\n"
     ]
    }
   ],
   "source": [
    "# print(\"DecisionTrees 's Recall:\",metrics.recall_score(y_test, predTree, average='macro'))\n",
    "# print(\"DecisionTrees 's Reacll:\",metrics.recall_score(y_test, predTree, average='micro'))\n",
    "# print(\"DecisionTrees 's Reacll:\",metrics.recall_score(y_test, predTree, average='weighted'))\n",
    "from sklearn.metrics import classification_report \n",
    "print(classification_report(y_test, predTree))"
   ]
  },
  {
   "cell_type": "markdown",
   "metadata": {},
   "source": [
    "## SVM"
   ]
  },
  {
   "cell_type": "code",
   "execution_count": 33,
   "metadata": {},
   "outputs": [
    {
     "data": {
      "text/plain": [
       "SVC(kernel='linear')"
      ]
     },
     "execution_count": 33,
     "metadata": {},
     "output_type": "execute_result"
    }
   ],
   "source": [
    "svm_model = svm.SVC(kernel = \"linear\")\n",
    "svm_model.fit(X_train,y_train)"
   ]
  },
  {
   "cell_type": "code",
   "execution_count": 34,
   "metadata": {},
   "outputs": [],
   "source": [
    "predS = svm_model.predict(X_test)"
   ]
  },
  {
   "cell_type": "code",
   "execution_count": 35,
   "metadata": {},
   "outputs": [
    {
     "name": "stdout",
     "output_type": "stream",
     "text": [
      "SVM 's Accuracy: 0.95\n"
     ]
    }
   ],
   "source": [
    "print(\"SVM 's Accuracy:\", metrics.accuracy_score(y_test,predS))"
   ]
  },
  {
   "cell_type": "code",
   "execution_count": 36,
   "metadata": {},
   "outputs": [],
   "source": [
    "#Create a svm Classifier\n",
    "clf = svm.SVC(kernel='linear') # Linear Kernel\n",
    "\n",
    "#Train the model using the training s\n",
    "clf.fit(X_train,y_train)\n",
    "\n",
    "#Predict the response for test data\n",
    "y_pred = clf.predict(X_test)"
   ]
  },
  {
   "cell_type": "code",
   "execution_count": 37,
   "metadata": {},
   "outputs": [
    {
     "name": "stdout",
     "output_type": "stream",
     "text": [
      "SVM 's Accuracy: 0.95\n"
     ]
    }
   ],
   "source": [
    "print(\"SVM 's Accuracy:\", metrics.accuracy_score(y_test,y_pred))"
   ]
  },
  {
   "cell_type": "markdown",
   "metadata": {},
   "source": [
    "## KNN"
   ]
  },
  {
   "cell_type": "code",
   "execution_count": 55,
   "metadata": {},
   "outputs": [],
   "source": [
    "knn = KNeighborsClassifier()\n",
    "knn.fit(X_train, y_train)\n",
    "\n",
    "y_predi = knn.predict(X_test)"
   ]
  },
  {
   "cell_type": "code",
   "execution_count": 56,
   "metadata": {},
   "outputs": [
    {
     "name": "stdout",
     "output_type": "stream",
     "text": [
      "KNeighborsNearest's Accuracy: 0.6333333333333333\n"
     ]
    }
   ],
   "source": [
    "print(\"KNeighborsNearest's Accuracy:\", metrics.accuracy_score(y_test,y_predi))"
   ]
  },
  {
   "cell_type": "code",
   "execution_count": 57,
   "metadata": {},
   "outputs": [
    {
     "name": "stdout",
     "output_type": "stream",
     "text": [
      "KNeighborsNearest's F1 score: 0.5319703951962016\n",
      "KNeighborsNearest's F1 score: 0.6333333333333333\n",
      "KNeighborsNearest's F1 score: 0.6469077875529489\n",
      "KNeighborsNearest's F1 score: [0.53333333 0.47619048 0.18181818 0.51612903 0.95238095]\n"
     ]
    }
   ],
   "source": [
    "print(\"KNeighborsNearest's F1 score:\",metrics.f1_score(y_test, y_predi, average='macro'))\n",
    "print(\"KNeighborsNearest's F1 score:\",metrics.f1_score(y_test, y_predi, average='micro'))\n",
    "print(\"KNeighborsNearest's F1 score:\",metrics.f1_score(y_test, y_predi, average='weighted'))\n",
    "print(\"KNeighborsNearest's F1 score:\",metrics.f1_score(y_test, y_predi, average=None))"
   ]
  },
  {
   "cell_type": "markdown",
   "metadata": {},
   "source": [
    "## Random Forest"
   ]
  },
  {
   "cell_type": "code",
   "execution_count": 41,
   "metadata": {},
   "outputs": [],
   "source": [
    "rfc = RandomForestClassifier()\n",
    "rfc.fit(X_train, y_train)\n",
    "\n",
    "y_predict = rfc.predict(X_test)"
   ]
  },
  {
   "cell_type": "code",
   "execution_count": 42,
   "metadata": {},
   "outputs": [
    {
     "name": "stdout",
     "output_type": "stream",
     "text": [
      "Random Forest's Accuracy: 0.9833333333333333\n"
     ]
    }
   ],
   "source": [
    "print(\"Random Forest's Accuracy:\", metrics.accuracy_score(y_test,y_predict))"
   ]
  },
  {
   "cell_type": "code",
   "execution_count": 54,
   "metadata": {},
   "outputs": [
    {
     "name": "stdout",
     "output_type": "stream",
     "text": [
      "Random Forest's F1 score: 0.9906775067750677\n",
      "Random Forest's F1 score: 0.9833333333333333\n",
      "Random Forest's F1 score: 0.9833152664859981\n",
      "Random Forest's F1 score: [1.         1.         1.         0.97560976 0.97777778]\n"
     ]
    }
   ],
   "source": [
    "print(\"Random Forest's F1 score:\",metrics.f1_score(y_test, y_predict, average='macro'))\n",
    "print(\"Random Forest's F1 score:\",metrics.f1_score(y_test, y_predict, average='micro'))\n",
    "print(\"Random Forest's F1 score:\",metrics.f1_score(y_test, y_predict, average='weighted'))\n",
    "print(\"Random Forest's F1 score:\",metrics.f1_score(y_test, y_predict, average=None))"
   ]
  },
  {
   "cell_type": "markdown",
   "metadata": {},
   "source": [
    "   From this case we show our best alghoritm is __Random Forest__.Now we do this alghoritm's Hyperparameters"
   ]
  },
  {
   "cell_type": "markdown",
   "metadata": {},
   "source": [
    "## Hyperparameter Optimization"
   ]
  },
  {
   "cell_type": "markdown",
   "metadata": {},
   "source": [
    "### Random Forest"
   ]
  },
  {
   "cell_type": "code",
   "execution_count": 58,
   "metadata": {},
   "outputs": [
    {
     "name": "stdout",
     "output_type": "stream",
     "text": [
      "Parameters currently in use:\n",
      "\n",
      "{'bootstrap': True, 'ccp_alpha': 0.0, 'class_weight': None, 'criterion': 'gini', 'max_depth': None, 'max_features': 'auto', 'max_leaf_nodes': None, 'max_samples': None, 'min_impurity_decrease': 0.0, 'min_impurity_split': None, 'min_samples_leaf': 1, 'min_samples_split': 2, 'min_weight_fraction_leaf': 0.0, 'n_estimators': 100, 'n_jobs': None, 'oob_score': False, 'random_state': 42, 'verbose': 0, 'warm_start': False}\n"
     ]
    }
   ],
   "source": [
    "rf = RandomForestClassifier(random_state = 42)\n",
    "print('Parameters currently in use:\\n')\n",
    "print(rf.get_params())"
   ]
  },
  {
   "cell_type": "code",
   "execution_count": 59,
   "metadata": {},
   "outputs": [
    {
     "name": "stdout",
     "output_type": "stream",
     "text": [
      "{'n_estimators': [50, 100, 150, 200], 'max_features': ['auto', 'sqrt'], 'max_depth': [10, 20, 30, 40, 50, 60, 70, 80, 90, 100, 110, None], 'min_samples_split': [2, 5, 10], 'min_samples_leaf': [1, 2, 4], 'bootstrap': [True, False]}\n"
     ]
    }
   ],
   "source": [
    "from sklearn.model_selection import RandomizedSearchCV\n",
    "# Number of trees in random forest\n",
    "n_estimators = [int(x) for x in np.linspace(start = 50, stop = 200, num = 4)]\n",
    "# Number of features to consider at every split\n",
    "max_features = ['auto', 'sqrt']\n",
    "# Maximum number of levels in tree\n",
    "max_depth = [int(x) for x in np.linspace(10, 110, num = 11)]\n",
    "max_depth.append(None)\n",
    "# Minimum number of samples required to split a node\n",
    "min_samples_split = [2, 5, 10]\n",
    "# Minimum number of samples required at each leaf node\n",
    "min_samples_leaf = [1, 2, 4]\n",
    "# Method of selecting samples for training each tree\n",
    "bootstrap = [True, False]\n",
    "# Create the random grid\n",
    "random_grid = {'n_estimators': n_estimators,\n",
    "               'max_features': max_features,\n",
    "               'max_depth': max_depth,\n",
    "               'min_samples_split': min_samples_split,\n",
    "               'min_samples_leaf': min_samples_leaf,\n",
    "               'bootstrap': bootstrap}\n",
    "print(random_grid)"
   ]
  },
  {
   "cell_type": "code",
   "execution_count": 60,
   "metadata": {},
   "outputs": [
    {
     "name": "stdout",
     "output_type": "stream",
     "text": [
      "Fitting 3 folds for each of 10 candidates, totalling 30 fits\n"
     ]
    },
    {
     "data": {
      "text/plain": [
       "RandomizedSearchCV(cv=3, estimator=RandomForestClassifier(), n_jobs=-1,\n",
       "                   param_distributions={'bootstrap': [True, False],\n",
       "                                        'max_depth': [10, 20, 30, 40, 50, 60,\n",
       "                                                      70, 80, 90, 100, 110,\n",
       "                                                      None],\n",
       "                                        'max_features': ['auto', 'sqrt'],\n",
       "                                        'min_samples_leaf': [1, 2, 4],\n",
       "                                        'min_samples_split': [2, 5, 10],\n",
       "                                        'n_estimators': [50, 100, 150, 200]},\n",
       "                   random_state=42, verbose=2)"
      ]
     },
     "execution_count": 60,
     "metadata": {},
     "output_type": "execute_result"
    }
   ],
   "source": [
    "rf = RandomForestClassifier()\n",
    "# Random search of parameters, using 3 fold cross validation, \n",
    "# search across 100 different combinations, and use all available cores\n",
    "rf_random = RandomizedSearchCV(estimator = rf, param_distributions = random_grid, n_iter = 10, cv = 3, verbose=2, random_state=42, n_jobs = -1)\n",
    "# Fit the random search model\n",
    "rf_random.fit(X_train, y_train)"
   ]
  },
  {
   "cell_type": "code",
   "execution_count": 61,
   "metadata": {},
   "outputs": [
    {
     "data": {
      "text/plain": [
       "{'n_estimators': 150,\n",
       " 'min_samples_split': 5,\n",
       " 'min_samples_leaf': 2,\n",
       " 'max_features': 'sqrt',\n",
       " 'max_depth': 110,\n",
       " 'bootstrap': False}"
      ]
     },
     "execution_count": 61,
     "metadata": {},
     "output_type": "execute_result"
    }
   ],
   "source": [
    "rf_random.best_params_"
   ]
  },
  {
   "cell_type": "code",
   "execution_count": 62,
   "metadata": {},
   "outputs": [
    {
     "name": "stdout",
     "output_type": "stream",
     "text": [
      "Improvement of 0.00%.\n"
     ]
    }
   ],
   "source": [
    "def evaluate(model, test_features):\n",
    "    predictions = model.predict(test_features)\n",
    "    accuracy = metrics.fbeta_score(y_test, predictions, average=None, beta=0.5).mean()\n",
    "    return accuracy\n",
    "base_model = RandomForestClassifier(n_estimators = 10, random_state = 42)\n",
    "base_model.fit(X_train, y_train)\n",
    "\n",
    "base_accuracy = evaluate(base_model, X_test)\n",
    "best_random = rf_random.best_estimator_\n",
    "random_accuracy = evaluate(best_random,X_test)\n",
    "print('Improvement of {:0.2f}%.'.format( 100 * (random_accuracy - base_accuracy) / base_accuracy))"
   ]
  },
  {
   "cell_type": "markdown",
   "metadata": {},
   "source": [
    " :) Thus, we see that Hyperparameter Optimization does not help us at all. Random Forest works to the maximum with the initial parameters"
   ]
  },
  {
   "cell_type": "code",
   "execution_count": null,
   "metadata": {},
   "outputs": [],
   "source": []
  }
 ],
 "metadata": {
  "anaconda-cloud": {},
  "kernelspec": {
   "display_name": "Python 3",
   "language": "python",
   "name": "python3"
  },
  "language_info": {
   "codemirror_mode": {
    "name": "ipython",
    "version": 3
   },
   "file_extension": ".py",
   "mimetype": "text/x-python",
   "name": "python",
   "nbconvert_exporter": "python",
   "pygments_lexer": "ipython3",
   "version": "3.8.8"
  },
  "widgets": {
   "state": {},
   "version": "1.1.2"
  }
 },
 "nbformat": 4,
 "nbformat_minor": 4
}
